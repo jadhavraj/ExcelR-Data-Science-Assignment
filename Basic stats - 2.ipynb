{
 "cells": [
  {
   "cell_type": "markdown",
   "id": "7d0a747f-903a-4d02-a5eb-95fc792ff24e",
   "metadata": {},
   "source": [
    " a.Build 99% Confidence Interval Using Sample Standard Deviation"
   ]
  },
  {
   "cell_type": "code",
   "execution_count": 2,
   "id": "afc8ecb9-16e6-492a-8392-dbed49c1f6ff",
   "metadata": {},
   "outputs": [],
   "source": [
    "from scipy import stats\n",
    "import numpy as np"
   ]
  },
  {
   "cell_type": "code",
   "execution_count": 3,
   "id": "4d5c1431-68ca-41bf-aa47-76ff96f9c31e",
   "metadata": {},
   "outputs": [],
   "source": [
    "data = [1.13, 1.55, 1.43, 0.92, 1.25, 1.36, 1.32, 0.85, 1.07, 1.48, 1.20, 1.33, 1.18, 1.22, 1.29]"
   ]
  },
  {
   "cell_type": "code",
   "execution_count": 4,
   "id": "aa78b248-a989-4018-b7f0-2f958e641217",
   "metadata": {},
   "outputs": [],
   "source": [
    "# mean\n",
    "sample_mean = np.mean(data)"
   ]
  },
  {
   "cell_type": "code",
   "execution_count": 5,
   "id": "2991e141-6adf-44e0-9cc9-bbc32b8d8c86",
   "metadata": {},
   "outputs": [],
   "source": [
    "# sample standard deviation ,ddof= degrees of freedom\n",
    "sample_std=np.std(data,ddof=1)"
   ]
  },
  {
   "cell_type": "code",
   "execution_count": 7,
   "id": "0236b009-c60d-4285-b382-8b5cb141c00c",
   "metadata": {},
   "outputs": [],
   "source": [
    "# standard error\n",
    "sample_size=len(data)\n",
    "standard_error=sample_std/np.sqrt(sample_size)"
   ]
  },
  {
   "cell_type": "code",
   "execution_count": 9,
   "id": "4e202c64-3bed-41ca-b709-3872c9cafae0",
   "metadata": {},
   "outputs": [],
   "source": [
    "# t-score for 99% confidence df = degree of freedom\n",
    "t_score = stats.t.ppf(0.995,df=sample_size-1)\n"
   ]
  },
  {
   "cell_type": "code",
   "execution_count": 11,
   "id": "3786e553-1dd9-4e2d-bbbf-634a4b0d4814",
   "metadata": {},
   "outputs": [],
   "source": [
    "confidence_interval = (sample_mean - t_score * standard_error, sample_mean + t_score * standard_error)"
   ]
  },
  {
   "cell_type": "code",
   "execution_count": 12,
   "id": "bdfe32fb-f91d-4507-82ec-630384aeffff",
   "metadata": {},
   "outputs": [
    {
     "name": "stdout",
     "output_type": "stream",
     "text": [
      "99% Confidence Interval: (1.0901973384384906, 1.3871359948948425)\n"
     ]
    }
   ],
   "source": [
    "print(\"99% Confidence Interval:\", confidence_interval)"
   ]
  },
  {
   "cell_type": "markdown",
   "id": "a8d6db67-4436-43de-b606-b394c26e8ba0",
   "metadata": {},
   "source": [
    "# Explaination and Rationale\n"
   ]
  },
  {
   "cell_type": "markdown",
   "id": "ed3619a9-b2fc-4857-b9c0-4037a97f8255",
   "metadata": {},
   "source": [
    "\n",
    "Why use the t-distribution?: The t-distribution is used instead of the normal distribution because the sample size is small (( n < 30 )) and the population standard deviation is unknown. The t-distribution accounts for the additional variability introduced by estimating the population standard deviation from the sample\r",
    "es."
   ]
  },
  {
   "cell_type": "markdown",
   "id": "e1d04120-25f9-49ab-918f-5b88ef72efbc",
   "metadata": {},
   "source": [
    "Confidence Interval Formula: The confidence interval is constructed using the sample mean, the t-score for the desired confidence level, and the standard error. This interval provides a range within which we can be 99% confident that the true population mean lie"
   ]
  },
  {
   "cell_type": "markdown",
   "id": "52025fd0-d3bf-4a86-9721-73e3f245631c",
   "metadata": {},
   "source": [
    "b. Build 99% Confidence Interval Using Known Population Standard Deviation"
   ]
  },
  {
   "cell_type": "code",
   "execution_count": 13,
   "id": "de8f9912-c022-4784-aaea-3af36b0300fd",
   "metadata": {},
   "outputs": [],
   "source": [
    "data = [1.13, 1.55, 1.43, 0.92, 1.25, 1.36, 1.32, 0.85, 1.07, 1.48, 1.20, 1.33, 1.18, 1.22, 1.29]"
   ]
  },
  {
   "cell_type": "code",
   "execution_count": 14,
   "id": "eb80d25b-14c0-4ab3-a286-7bb6b625fcbf",
   "metadata": {},
   "outputs": [],
   "source": [
    "# mean\n",
    "sample_mean = np.mean(data)"
   ]
  },
  {
   "cell_type": "code",
   "execution_count": 15,
   "id": "dda5a974-2802-411e-9449-2c4b0e5ca14d",
   "metadata": {},
   "outputs": [],
   "source": [
    "# Known population standard deviation\n",
    "population_std_dev = 0.2"
   ]
  },
  {
   "cell_type": "code",
   "execution_count": 16,
   "id": "29bdd44f-93d0-44ce-acef-196f826c5097",
   "metadata": {},
   "outputs": [],
   "source": [
    " #Calculate the standard error\n",
    "sample_size = len(data)\n",
    "standard_error = population_std_dev / np.sqrt(sample_size)\n"
   ]
  },
  {
   "cell_type": "code",
   "execution_count": 17,
   "id": "2f211981-0a5a-4160-b489-cd44c73d214b",
   "metadata": {},
   "outputs": [],
   "source": [
    "# Find the z-score for a 99% confidence level\n",
    "z_score = 2.576"
   ]
  },
  {
   "cell_type": "code",
   "execution_count": 18,
   "id": "5de4659e-17e4-4ca8-b9a1-bda92e33ee1d",
   "metadata": {},
   "outputs": [],
   "source": [
    "confidence_interval = (sample_mean - z_score * standard_error, sample_mean + z_score * standard_error)"
   ]
  },
  {
   "cell_type": "code",
   "execution_count": 19,
   "id": "8814eaa2-4550-451d-9d2e-f1a064c40931",
   "metadata": {},
   "outputs": [
    {
     "name": "stdout",
     "output_type": "stream",
     "text": [
      "99% Confidence Interval: (1.105642598668929, 1.371690734664404)\n"
     ]
    }
   ],
   "source": [
    "print(\"99% Confidence Interval:\", confidence_interval)"
   ]
  },
  {
   "cell_type": "markdown",
   "id": "7b79360f-a68d-41af-bcac-a1c08066a865",
   "metadata": {},
   "source": [
    "# Explanation and Rationale"
   ]
  },
  {
   "cell_type": "markdown",
   "id": "2d7474c7-2872-4e39-a92c-f19a8a31502d",
   "metadata": {},
   "source": [
    "Why use the z-distribution?: When the population standard deviation is known, the z-distribution is used because it provides a more precise estimate of the confidence interval."
   ]
  },
  {
   "cell_type": "markdown",
   "id": "b87d21cd-619b-444b-b980-c623adf4e2d4",
   "metadata": {},
   "source": [
    "Confidence Interval Formula: The confidence interval is constructed using the sample mean, the z-score for the desired confidence level, and the standard error. This interval provides a range within which we can be 99% confident that the true population mean lies."
   ]
  },
  {
   "cell_type": "code",
   "execution_count": null,
   "id": "377a533d-baa6-484f-9402-7588bb849c80",
   "metadata": {},
   "outputs": [],
   "source": []
  }
 ],
 "metadata": {
  "kernelspec": {
   "display_name": "Python 3 (ipykernel)",
   "language": "python",
   "name": "python3"
  },
  "language_info": {
   "codemirror_mode": {
    "name": "ipython",
    "version": 3
   },
   "file_extension": ".py",
   "mimetype": "text/x-python",
   "name": "python",
   "nbconvert_exporter": "python",
   "pygments_lexer": "ipython3",
   "version": "3.12.4"
  }
 },
 "nbformat": 4,
 "nbformat_minor": 5
}
