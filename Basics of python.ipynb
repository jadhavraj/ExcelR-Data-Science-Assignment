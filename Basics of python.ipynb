{
 "cells": [
  {
   "cell_type": "markdown",
   "id": "081f4b00-e2dc-44f6-9e43-419bd044227d",
   "metadata": {},
   "source": [
    " # Exercise 1: Prime Numbers\n"
   ]
  },
  {
   "cell_type": "code",
   "execution_count": 3,
   "id": "8bd5c583-3cfb-4063-8162-9dc3a991e04f",
   "metadata": {},
   "outputs": [
    {
     "name": "stdin",
     "output_type": "stream",
     "text": [
      " Enter a number: 5\n"
     ]
    },
    {
     "name": "stdout",
     "output_type": "stream",
     "text": [
      "5 is a prime number.\n"
     ]
    }
   ],
   "source": [
    "def is_prime(number):\n",
    "    # Check if the number is less than or equal to 1\n",
    "    if number <= 1:\n",
    "        return False\n",
    "     # check for factors from 2 to the square root of the number\n",
    "     # The loop checks for factors from 2 to the square root of the number. If any factor divides the number evenly, it returns False\n",
    "    #  If no factors are found, the function returns True, indicating the number is prime.\n",
    "    for i in range(2,int(number**0.5)+1):\n",
    "        if number % i==0:\n",
    "            return False\n",
    "    return True        \n",
    "    # input from user\n",
    "num = int(input(\" Enter a number:\"))\n",
    "\n",
    "# Check if the number is prime\n",
    "if is_prime(num):\n",
    "    print(f\"{num} is a prime number.\")\n",
    "else:\n",
    "    print(f\"{num} is not a prime number.\")"
   ]
  },
  {
   "cell_type": "markdown",
   "id": "1564f1f6-1be8-48c9-9cf5-ac35de215c37",
   "metadata": {},
   "source": [
    "# Exercise 2: Product of Random Numbers"
   ]
  },
  {
   "cell_type": "code",
   "execution_count": 8,
   "id": "721f6c27-6d55-410d-a4c0-7bd6090720a0",
   "metadata": {},
   "outputs": [],
   "source": [
    "import random"
   ]
  },
  {
   "cell_type": "code",
   "execution_count": null,
   "id": "5c340ce9-0a40-4bae-b05e-3c1ddcbe4dc1",
   "metadata": {},
   "outputs": [],
   "source": []
  },
  {
   "cell_type": "code",
   "execution_count": 11,
   "id": "6f6a8490-af5e-4e7a-839d-444a96032e8e",
   "metadata": {},
   "outputs": [
    {
     "name": "stdout",
     "output_type": "stream",
     "text": [
      "Multiply 5 and 9\n"
     ]
    },
    {
     "name": "stdin",
     "output_type": "stream",
     "text": [
      "Enter the product:  6\n"
     ]
    },
    {
     "name": "stdout",
     "output_type": "stream",
     "text": [
      "Incorrect. The correct answer is 45.\n"
     ]
    }
   ],
   "source": [
    "import random\n",
    "\n",
    "def generate_numbers():\n",
    "    num1 = random.randint(1, 10)\n",
    "    num2 = random.randint(1, 10)\n",
    "    return num1, num2\n",
    "\n",
    "def main():\n",
    "    num1, num2 = generate_numbers()\n",
    "    print(f\"Multiply {num1} and {num2}\")\n",
    "    \n",
    "    user_answer = int(input(\"Enter the product: \"))\n",
    "    correct_answer = num1 * num2\n",
    "    \n",
    "    if user_answer == correct_answer:\n",
    "        print(\"Correct! Well done.\")\n",
    "    else:\n",
    "        print(f\"Incorrect. The correct answer is {correct_answer}.\")\n",
    "\n",
    "if __name__ == \"__main__\": # the main() function is called only when the script is run directly, not when it’s imported as a module in another script\n",
    "    main()\n"
   ]
  },
  {
   "cell_type": "markdown",
   "id": "e29e8795-4516-4c0a-a08d-3dafa39c343a",
   "metadata": {},
   "source": [
    "# Exercise 3: Squares of Even/Odd Numbers"
   ]
  },
  {
   "cell_type": "code",
   "execution_count": 12,
   "id": "a395c7f8-7bed-49ae-804e-88d8aa918069",
   "metadata": {},
   "outputs": [
    {
     "name": "stdout",
     "output_type": "stream",
     "text": [
      "The square of 100 is 10000\n",
      "The square of 102 is 10404\n",
      "The square of 104 is 10816\n",
      "The square of 106 is 11236\n",
      "The square of 108 is 11664\n",
      "The square of 110 is 12100\n",
      "The square of 112 is 12544\n",
      "The square of 114 is 12996\n",
      "The square of 116 is 13456\n",
      "The square of 118 is 13924\n",
      "The square of 120 is 14400\n",
      "The square of 122 is 14884\n",
      "The square of 124 is 15376\n",
      "The square of 126 is 15876\n",
      "The square of 128 is 16384\n",
      "The square of 130 is 16900\n",
      "The square of 132 is 17424\n",
      "The square of 134 is 17956\n",
      "The square of 136 is 18496\n",
      "The square of 138 is 19044\n",
      "The square of 140 is 19600\n",
      "The square of 142 is 20164\n",
      "The square of 144 is 20736\n",
      "The square of 146 is 21316\n",
      "The square of 148 is 21904\n",
      "The square of 150 is 22500\n",
      "The square of 152 is 23104\n",
      "The square of 154 is 23716\n",
      "The square of 156 is 24336\n",
      "The square of 158 is 24964\n",
      "The square of 160 is 25600\n",
      "The square of 162 is 26244\n",
      "The square of 164 is 26896\n",
      "The square of 166 is 27556\n",
      "The square of 168 is 28224\n",
      "The square of 170 is 28900\n",
      "The square of 172 is 29584\n",
      "The square of 174 is 30276\n",
      "The square of 176 is 30976\n",
      "The square of 178 is 31684\n",
      "The square of 180 is 32400\n",
      "The square of 182 is 33124\n",
      "The square of 184 is 33856\n",
      "The square of 186 is 34596\n",
      "The square of 188 is 35344\n",
      "The square of 190 is 36100\n",
      "The square of 192 is 36864\n",
      "The square of 194 is 37636\n",
      "The square of 196 is 38416\n",
      "The square of 198 is 39204\n",
      "The square of 200 is 40000\n"
     ]
    }
   ],
   "source": [
    "# This script prints the squares of all even numbers within the range of 100 to 200.\n",
    "\n",
    "def print_even_squares(start, end):\n",
    "    for num in range(start, end + 1):\n",
    "        if num % 2 == 0:\n",
    "            print(f\"The square of {num} is {num ** 2}\")\n",
    "\n",
    "# Define the range\n",
    "start = 100\n",
    "end = 200\n",
    "\n",
    "# Call the function\n",
    "print_even_squares(start, end)\n"
   ]
  },
  {
   "cell_type": "markdown",
   "id": "1e45f46b-d1fe-4e6e-9cd8-39d814648134",
   "metadata": {},
   "source": [
    "# Exercise 4: Word counter"
   ]
  },
  {
   "cell_type": "code",
   "execution_count": 14,
   "id": "3ac259d0-402e-480d-9ce3-3ffeb5310e3e",
   "metadata": {},
   "outputs": [
    {
     "name": "stdout",
     "output_type": "stream",
     "text": [
      " The number of words in a given text is :15 \n"
     ]
    }
   ],
   "source": [
    "def count_words(text):\n",
    "    # split the texts into words\n",
    "    words = text.split()\n",
    "    # return the number of words\n",
    "    return len(words)\n",
    "\n",
    "# example usage\n",
    "text = \"This is a sample text. This text will be used to demonstrate the word counter.\"\n",
    "word_count = count_words(text)\n",
    "print(f\" The number of words in a given text is :{word_count} \")\n",
    "    "
   ]
  },
  {
   "cell_type": "markdown",
   "id": "e3cbcaa5-3171-4be8-8c95-c58068d0f257",
   "metadata": {},
   "source": [
    " # Exercise 5: Check for Palindrome"
   ]
  },
  {
   "cell_type": "code",
   "execution_count": 18,
   "id": "a344be74-7c9a-4e1e-a07a-e4501dbee285",
   "metadata": {},
   "outputs": [
    {
     "name": "stdin",
     "output_type": "stream",
     "text": [
      "enter the string: lol\n"
     ]
    },
    {
     "name": "stdout",
     "output_type": "stream",
     "text": [
      "\"lol\" is a palindrome.\n"
     ]
    }
   ],
   "source": [
    "def is_palindrome(s):\n",
    "    # Remove any spaces and convert the string to lowercase\n",
    "    s = s.replace(\" \", \"\").lower()\n",
    "    # Check if the string is equal to its reverse\n",
    "    return s == s[::-1]\n",
    "\n",
    "# Example usage\n",
    "input_string = input(\"enter the string:\")\n",
    "if is_palindrome(input_string):\n",
    "    print(f'\"{input_string}\" is a palindrome.')\n",
    "else:\n",
    "    print(f'\"{input_string}\" is not a palindrome.')\n",
    "    \n",
    "    "
   ]
  },
  {
   "cell_type": "code",
   "execution_count": null,
   "id": "942075d4-02ea-4798-acdc-f696b7656bd9",
   "metadata": {},
   "outputs": [],
   "source": []
  }
 ],
 "metadata": {
  "kernelspec": {
   "display_name": "Python 3 (ipykernel)",
   "language": "python",
   "name": "python3"
  },
  "language_info": {
   "codemirror_mode": {
    "name": "ipython",
    "version": 3
   },
   "file_extension": ".py",
   "mimetype": "text/x-python",
   "name": "python",
   "nbconvert_exporter": "python",
   "pygments_lexer": "ipython3",
   "version": "3.12.4"
  }
 },
 "nbformat": 4,
 "nbformat_minor": 5
}
