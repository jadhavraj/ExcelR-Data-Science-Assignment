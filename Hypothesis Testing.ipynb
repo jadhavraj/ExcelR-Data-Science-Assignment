{
 "cells": [
  {
   "cell_type": "markdown",
   "id": "77d16be6-5758-4b76-bcb6-b731ff2b4943",
   "metadata": {},
   "source": [
    "STATE THE HYPOTHESIS\n"
   ]
  },
  {
   "cell_type": "markdown",
   "id": "2701cff1-36b7-48d1-a2b5-deca4865d921",
   "metadata": {},
   "source": [
    "H0: There is no  significant association between the type of smart home device purchased (Smart Thermostats vs. Smart Lights) and the customer satisfaction level.\n",
    "\n",
    "H1: there is a significant association between the type of smart home device purchased (Smart Thermostats vs. Smart Lights) and the customer satisfaction level."
   ]
  },
  {
   "cell_type": "markdown",
   "id": "d6b1d593-77d7-4aa1-a2b9-a07d78896969",
   "metadata": {},
   "source": [
    "chisquare statistics = Χ2 = ∑ (Oi – Ei)2/Ei\n",
    "o = observed values\n",
    "E= expected values\n"
   ]
  },
  {
   "cell_type": "markdown",
   "id": "301ef375-8307-487d-be46-5e0c4591d6ac",
   "metadata": {},
   "source": [
    "expected frequency = total no of observation * total no of observations for the column/total no of observations"
   ]
  },
  {
   "cell_type": "markdown",
   "id": "5d79ce67-802f-4382-9269-0f3c631b9bd3",
   "metadata": {},
   "source": [
    "# chisquare statistics"
   ]
  },
  {
   "cell_type": "code",
   "execution_count": null,
   "id": "ef073c40-9fe0-4930-bda8-a78e5a870c6b",
   "metadata": {},
   "outputs": [],
   "source": [
    "Satisfaction\tSmart Thermostat\tSmart Light\t    Total\n",
    "Very Satisfied      \t50\t                70\t    120\n",
    "Satisfied\t              80\t             100\t180\n",
    "Neutral\t                  60 \t              90\t150\n",
    "Unsatisfied\t              30\t              50\t80\n",
    "Very Unsatisfied\t       20\t               50\t70\n",
    "Total\t                   240\t              360\t600\n"
   ]
  },
  {
   "cell_type": "markdown",
   "id": "a506fca5-f756-433f-8dd2-84a5f56b7cf2",
   "metadata": {},
   "source": [
    "Satisfaction\tSmart Thermostat\tSmart Light\tTotal\n",
    "Very Satisfied\t            10\t           14\t120\n",
    "Satisfied\t                 24\t           30\t180\n",
    "Neutral\t                      15\t       22.5\t150\n",
    "Unsatisfied                \t4\t            6.66\t80\n",
    "Very Unsatisfied\t          2.33\t        5.833\t70\n",
    "Total\t                     240\t         360\t600\n"
   ]
  },
  {
   "cell_type": "markdown",
   "id": "43851cf5-9f77-4c33-b3e1-2c72ff5c93de",
   "metadata": {},
   "source": [
    " Χ2 = ∑ (Oi – Ei)2/Ei\n",
    "in subgroup of very satisfied and smart thermostat= 160\n",
    "in subgroup of  satisfied and smart thermostat=130.66\n",
    "in subgroup of neutraland smart thermostat=15\n",
    "in subgroup of unsatisfied and smart thermostat=169\n",
    "in subgroup of very unsatisfied and smart thermostat=134.003\n",
    "in subgroup of very satisfied and smart light=224\n",
    "in subgroup of  satisfied and smart light=163.33\n",
    "in subgroup of neutral  and smart light= 202.5\n",
    "in subgroup of unsatisfied and smart light=282.03\n",
    "in subgroup of very unsatisfied and smart light= 334.42\n",
    "\n",
    "then take sum = 1814.943=test statistics"
   ]
  },
  {
   "cell_type": "markdown",
   "id": "dc6f50fd-e32b-4154-8415-0a719e8b9f57",
   "metadata": {},
   "source": [
    "# determine critical value"
   ]
  },
  {
   "cell_type": "code",
   "execution_count": 6,
   "id": "37a3fd89-21e2-41d1-9604-3f9891ac7c42",
   "metadata": {},
   "outputs": [
    {
     "name": "stdout",
     "output_type": "stream",
     "text": [
      "Critical Value: 9.487729036781154\n"
     ]
    }
   ],
   "source": [
    "# given alpha =0.05,df= 4\n",
    "import scipy.stats as stats\n",
    "\n",
    "# For a chi-square distribution\n",
    "alpha = 0.05\n",
    "df = 4\n",
    "critical_value = stats.chi2.ppf(1 - alpha, df)\n",
    "print(f\"Critical Value: {critical_value}\")\n",
    "\n"
   ]
  },
  {
   "cell_type": "markdown",
   "id": "5b6460cf-64c9-4869-b7c2-299855cbbb8c",
   "metadata": {},
   "source": [
    "# Decision "
   ]
  },
  {
   "cell_type": "code",
   "execution_count": null,
   "id": "bf0f289b-9c24-4d40-b354-a0e44a5d844f",
   "metadata": {},
   "outputs": [],
   "source": [
    "test statistics > critical value \n",
    "we reject null hypothesis\n",
    "hence : there is a significant association between the type of smart home device purchased (Smart Thermostats vs. Smart Lights) and the customer satisfaction level."
   ]
  },
  {
   "cell_type": "markdown",
   "id": "81dbcb3b-1d8e-42f4-bf82-47b15d387841",
   "metadata": {},
   "source": [
    "# Hypothesis testing"
   ]
  },
  {
   "cell_type": "markdown",
   "id": "a016c9c3-8088-4c04-abb7-c1f533314a9f",
   "metadata": {},
   "source": [
    "# statement"
   ]
  },
  {
   "cell_type": "markdown",
   "id": "a6480cd5-5d3f-4c93-a530-854295fb8e95",
   "metadata": {},
   "source": [
    "Hypotheses Statement\n",
    "\n",
    "\n",
    "Null Hypothesis (H₀): The mean weekly operating cost follows the theoretical model, i.e., the mean weekly cost is Rs. 4,000 (since ( W = 1000 + 5 \\times 600 = 4000 )).\n",
    "H0​:μ=4000\n",
    "\n",
    "\n",
    "Alternative Hypothesis (H₁): The mean weekly operating cost is higher than the theoretical model, i.e., the mean weekly cost is greater than Rs. 4,000.\n",
    "H1​:μ>4000"
   ]
  },
  {
   "cell_type": "markdown",
   "id": "db3a81c1-712e-4135-b3af-b815f1e3aadd",
   "metadata": {},
   "source": [
    "# test statistics"
   ]
  },
  {
   "cell_type": "code",
   "execution_count": 9,
   "id": "5130e020-8404-4ddb-acb6-5eb3eb95dba5",
   "metadata": {},
   "outputs": [
    {
     "ename": "SyntaxError",
     "evalue": "invalid character '–' (U+2013) (104560288.py, line 2)",
     "output_type": "error",
     "traceback": [
      "\u001b[1;36m  Cell \u001b[1;32mIn[9], line 2\u001b[1;36m\u001b[0m\n\u001b[1;33m    t=(x̅ – μ0) / (σ /√n)\u001b[0m\n\u001b[1;37m          ^\u001b[0m\n\u001b[1;31mSyntaxError\u001b[0m\u001b[1;31m:\u001b[0m invalid character '–' (U+2013)\n"
     ]
    }
   ],
   "source": [
    "To calculate the test statistic (t) for the given data, we can use the following formula:\n",
    "t=(x̅ – μ0) / (σ /√n)\n",
    "where:\n",
    "\n",
    "( \\bar{x} ) is the sample mean weekly cost (Rs. 3,050)\n",
    "( \\mu ) is the theoretical mean weekly cost (Rs. 4,000)\n",
    "( \\sigma ) is the standard deviation (5 * 25 units)\n",
    "( n ) is the sample size (25 restaurants)\n",
    "\n",
    "Given Data\n",
    "\n",
    "Sample mean (( \\bar{x} )) = Rs. 3,050\n",
    "Theoretical mean (( \\mu )) = Rs. 4,000\n",
    "Standard deviation (( \\sigma )) = 5 * 25 = 125\n",
    "Sample size (( n )) = 25\n",
    "\n",
    "Calculation\n",
    "\n",
    "\n",
    "Calculate the standard error (SE):\n",
    "SE= (σ /√n)​=25​125​=5125​=25\n",
    "\n",
    "\n",
    "Calculate the t-score:\n",
    "t=253050−4000​=25−950​=−38"
   ]
  },
  {
   "cell_type": "markdown",
   "id": "2e643826-2cc7-4a6a-8a3c-7ad45b0d75b3",
   "metadata": {},
   "source": [
    "# critical value"
   ]
  },
  {
   "cell_type": "code",
   "execution_count": 10,
   "id": "e3fd2a6b-8c1a-4000-9dc8-1a72347012e1",
   "metadata": {},
   "outputs": [
    {
     "name": "stdout",
     "output_type": "stream",
     "text": [
      "Critical Value (one-tailed): 1.6448536269514722\n",
      "Critical Value (two-tailed): ±1.959963984540054\n"
     ]
    }
   ],
   "source": [
    "import scipy.stats as stats\n",
    "\n",
    "# For a one-tailed test\n",
    "alpha = 0.05\n",
    "critical_value = stats.norm.ppf(1 - alpha)\n",
    "print(f\"Critical Value (one-tailed): {critical_value}\")\n",
    "\n",
    "# For a two-tailed test\n",
    "critical_value_two_tailed = stats.norm.ppf(1 - alpha / 2)\n",
    "print(f\"Critical Value (two-tailed): ±{critical_value_two_tailed}\")\n"
   ]
  },
  {
   "cell_type": "markdown",
   "id": "5cee25f6-f7f2-46ee-ba4b-2340a18d1ca7",
   "metadata": {},
   "source": [
    "# Decision"
   ]
  },
  {
   "cell_type": "markdown",
   "id": "74447606-7b67-45f3-a3e1-a94cf6ffd2dc",
   "metadata": {},
   "source": [
    "Critical Value (one-tailed): 1.66\n",
    "Test Statistic (t-score): -38\n",
    "Comparison\n",
    "Since the test statistic (-38) is much less than the critical value (1.66), it falls in the rejection region of the null hypothesis.\n",
    "\n",
    "Decision\n",
    "Reject the Null Hypothesis (H₀): The evidence strongly suggests that the mean weekly operating cost is significantly different from the theoretical mean of Rs. 4,000. Specifically, the observed costs are much lower than expected."
   ]
  },
  {
   "cell_type": "markdown",
   "id": "8ecba094-b24c-47ff-880c-6219640a78a3",
   "metadata": {},
   "source": [
    "# conclusion"
   ]
  },
  {
   "cell_type": "code",
   "execution_count": null,
   "id": "29858067-b380-4f04-ac64-f31c12395893",
   "metadata": {},
   "outputs": [],
   "source": [
    "This indicates that the restaurant owners’ claim about the increase in weekly operating costs is not supported by the data. \n",
    "Instead, it appears that the actual costs are lower than the theoretical model predicts."
   ]
  }
 ],
 "metadata": {
  "kernelspec": {
   "display_name": "Python 3 (ipykernel)",
   "language": "python",
   "name": "python3"
  },
  "language_info": {
   "codemirror_mode": {
    "name": "ipython",
    "version": 3
   },
   "file_extension": ".py",
   "mimetype": "text/x-python",
   "name": "python",
   "nbconvert_exporter": "python",
   "pygments_lexer": "ipython3",
   "version": "3.12.4"
  }
 },
 "nbformat": 4,
 "nbformat_minor": 5
}
